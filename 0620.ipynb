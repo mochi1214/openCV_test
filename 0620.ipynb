{
  "nbformat": 4,
  "nbformat_minor": 0,
  "metadata": {
    "colab": {
      "provenance": [],
      "authorship_tag": "ABX9TyM8F0UUSMamF1uViqUr3KMa",
      "include_colab_link": true
    },
    "kernelspec": {
      "name": "python3",
      "display_name": "Python 3"
    },
    "language_info": {
      "name": "python"
    }
  },
  "cells": [
    {
      "cell_type": "markdown",
      "metadata": {
        "id": "view-in-github",
        "colab_type": "text"
      },
      "source": [
        "<a href=\"https://colab.research.google.com/github/mochi1214/openCV_test/blob/main/0620.ipynb\" target=\"_parent\"><img src=\"https://colab.research.google.com/assets/colab-badge.svg\" alt=\"Open In Colab\"/></a>"
      ]
    },
    {
      "cell_type": "code",
      "execution_count": null,
      "metadata": {
        "id": "YmvjKTJvU26u"
      },
      "outputs": [],
      "source": [
        "import cv2\n",
        "import numpy as np\n",
        "import IPython.display as dp\n",
        "from google.colab.patches import cv2_imshow\n",
        "from PIL import ImageFont, ImageDraw, Image\n",
        "\n",
        "image1 = cv2.imread(\"image2.png\", 1)\n",
        "image2 = cv2.inRange(image1, (50, 200, 50), (120, 255, 120))\n",
        "\n",
        "image2 = cv2.erode(image2, np.ones((2, 2)))\n",
        "image2 = cv2.dilate(image2, np.ones((10, 15)))\n",
        "\n",
        "image3 = np.full(image1.shape, 255, np.uint8)\n",
        "\n",
        "a, b = cv2.findContours(image2, cv2.RETR_TREE, cv2.CHAIN_APPROX_NONE)\n",
        "for i in range(0, len(a), 1):\n",
        "  x, y, w, h = cv2.boundingRect(a[i])\n",
        "  cv2_imshow(image1[y : y + h, x : x + w])\n",
        "  print(\"\")\n",
        "  cv2.rectangle(image1, (x, y), (x+w, y+h), (255, 0, 0), 2)\n",
        "\n",
        "cv2_imshow(image1)\n",
        "print(\"\")\n",
        "cv2_imshow(image2)\n",
        "print(\"\")\n",
        "cv2_imshow(image3)"
      ]
    },
    {
      "cell_type": "code",
      "source": [
        "import cv2\n",
        "import numpy as np\n",
        "import pytesseract as pt\n",
        "from google.colab.patches import cv2_imshow\n",
        "\n",
        "# 如果你還沒有安裝 pytesseract，取消註釋並運行以下行：\n",
        "!pip install pytesseract\n",
        "\n",
        "# 根據你的系統，你可能需要在調用 image_to_string 前在腳本中設置 tesseract 路徑，像這樣：\n",
        "# pt.pytesseract.tesseract_cmd = r'/usr/local/bin/pytesseract'\n",
        "\n",
        "image1 = cv2.imread(\"image3.png\", 1)\n",
        "image2 = cv2.inRange(image1, (0, 0, 0), (10, 10, 10))\n",
        "image2 = cv2.dilate(image2, np.ones((5, 5)))\n",
        "image2 = cv2.bitwise_not(image2)\n",
        "image2 = cv2.cvtColor(image2, cv2.COLOR_GRAY2BGR)\n",
        "image2 = cv2.add(image1, image2)\n",
        "\n",
        "txt = pt.image_to_string(image2, \"eng\")\n",
        "print(\"辨識結果：\", txt)\n",
        "\n",
        "cv2_imshow(image1)\n",
        "cv2_imshow(image2)\n"
      ],
      "metadata": {
        "id": "Co_5gkgGLwea"
      },
      "execution_count": null,
      "outputs": []
    },
    {
      "cell_type": "code",
      "source": [
        "!apt install libzbar-dev"
      ],
      "metadata": {
        "id": "nPuIze8LgCpt"
      },
      "execution_count": null,
      "outputs": []
    },
    {
      "cell_type": "code",
      "source": [
        "!pip install pyzbar"
      ],
      "metadata": {
        "colab": {
          "base_uri": "https://localhost:8080/"
        },
        "id": "nZo3qZV_geG6",
        "outputId": "a071c188-5a23-40bb-ca8b-79eb5de7d84f"
      },
      "execution_count": 17,
      "outputs": [
        {
          "output_type": "stream",
          "name": "stdout",
          "text": [
            "Looking in indexes: https://pypi.org/simple, https://us-python.pkg.dev/colab-wheels/public/simple/\n",
            "Requirement already satisfied: pyzbar in /usr/local/lib/python3.10/dist-packages (0.1.9)\n"
          ]
        }
      ]
    },
    {
      "cell_type": "code",
      "source": [
        "from pyzbar import pyzbar\n",
        "import cv2\n",
        "import numpy as np\n",
        "import pytesseract as pt\n",
        "from google.colab.patches import cv2_imshow\n",
        "\n",
        "m1 = cv2.imread(\"QRCode.jpg\", 1)\n",
        "ret = pyzbar.decode(m1)\n",
        "i = 1\n",
        "for d in ret:\n",
        "  print(\"條碼編號：\", i)\n",
        "  print(\"條碼類型：\", d.type)\n",
        "  try:\n",
        "    print(\"條碼內容：\", d.data.decode(\"utf-8\").encode(\"sjis\").decode(\"utf-8\"))\n",
        "  except:\n",
        "    print(\"條碼內容：\", d.data.decode(\"utf-8\"))\n",
        "\n",
        "  x, y, w, h = d.rect\n",
        "  cv2.rectangle(m1, (x, y), (x+w, y+h), (0, 0, 255), 2)\n",
        "  m1 = Image.fromarray(m1)\n",
        "  ImageDraw.Draw(m1).text((x, y - 30), str(i), (0, 0, 255), ImageFont.truetype(\"WawaTC-Regular.otf\", 30))\n",
        "  m1 = np.array(m1)\n",
        "  i += 1\n",
        "  print(\"================================\")\n",
        "\n",
        "  cv2_imshow(m1)\n",
        ""
      ],
      "metadata": {
        "id": "TVJreZ8EgnY8"
      },
      "execution_count": null,
      "outputs": []
    }
  ]
}